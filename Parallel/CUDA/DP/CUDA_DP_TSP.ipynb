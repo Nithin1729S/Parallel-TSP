{
  "nbformat": 4,
  "nbformat_minor": 0,
  "metadata": {
    "colab": {
      "provenance": []
    },
    "kernelspec": {
      "name": "python3",
      "display_name": "Python 3"
    },
    "language_info": {
      "name": "python"
    }
  },
  "cells": [
    {
      "cell_type": "code",
      "execution_count": 12,
      "metadata": {
        "colab": {
          "base_uri": "https://localhost:8080/"
        },
        "id": "07d_WyH8nj9H",
        "outputId": "ffd95e9a-24a7-49da-b496-c518769e8e69"
      },
      "outputs": [
        {
          "output_type": "stream",
          "name": "stdout",
          "text": [
            "/bin/bash: -c: line 2: syntax error: unexpected end of file\n"
          ]
        }
      ],
      "source": [
        "!nvcc --version|"
      ]
    },
    {
      "cell_type": "code",
      "source": [
        "!pip install nvcc4jupyter\n"
      ],
      "metadata": {
        "colab": {
          "base_uri": "https://localhost:8080/"
        },
        "id": "a9oRkzsInyWa",
        "outputId": "ffe480bc-00ac-432d-e8c5-e581ef487039"
      },
      "execution_count": 13,
      "outputs": [
        {
          "output_type": "stream",
          "name": "stdout",
          "text": [
            "Requirement already satisfied: nvcc4jupyter in /usr/local/lib/python3.10/dist-packages (1.2.1)\n"
          ]
        }
      ]
    },
    {
      "cell_type": "code",
      "source": [
        "%load_ext nvcc4jupyter"
      ],
      "metadata": {
        "colab": {
          "base_uri": "https://localhost:8080/"
        },
        "id": "TKLU-r77n0f9",
        "outputId": "977945c7-c5d7-4123-aa93-74d66db457e9"
      },
      "execution_count": 15,
      "outputs": [
        {
          "output_type": "stream",
          "name": "stdout",
          "text": [
            "The nvcc4jupyter extension is already loaded. To reload it, use:\n",
            "  %reload_ext nvcc4jupyter\n"
          ]
        }
      ]
    },
    {
      "cell_type": "code",
      "source": [
        "%%cuda\n",
        "#include <iostream>\n",
        "#include <vector>\n",
        "#include <limits.h>\n",
        "#include <chrono>\n",
        "#include <bitset>\n",
        "\n",
        "#define MAX_V 4  // maximum number of nodes\n",
        "\n",
        "const int dist[MAX_V][MAX_V] = {\n",
        "    { 0, 10, 15, 20 },\n",
        "    { 10, 0, 35, 25 },\n",
        "    { 15, 35, 0, 30 },\n",
        "    { 20, 25, 30, 0 }\n",
        "};\n",
        "\n",
        "// The main dynamic programming function for solving TSP\n",
        "int tspDP(int mask, int pos, std::vector<std::vector<int>>& dp, int n) {\n",
        "    if (mask == ((1 << n) - 1)) {\n",
        "        return dist[pos][0]; // Return to the starting city (city 0)\n",
        "    }\n",
        "\n",
        "    if (dp[mask][pos] != -1) {\n",
        "        return dp[mask][pos];\n",
        "    }\n",
        "\n",
        "    int ans = INT_MAX;\n",
        "    for (int city = 0; city < n; city++) {\n",
        "        if ((mask & (1 << city)) == 0) {\n",
        "            int newAns = dist[pos][city] + tspDP(mask | (1 << city), city, dp, n);\n",
        "            ans = std::min(ans, newAns);\n",
        "        }\n",
        "    }\n",
        "\n",
        "    return dp[mask][pos] = ans;\n",
        "}\n",
        "\n",
        "int main() {\n",
        "    int n = MAX_V;  // number of cities\n",
        "\n",
        "    // Initialize DP table\n",
        "    std::vector<std::vector<int>> dp(1 << n, std::vector<int>(n, -1));\n",
        "\n",
        "    // Measure execution time\n",
        "    auto start = std::chrono::high_resolution_clock::now();\n",
        "\n",
        "    // Start TSP from node 0 and mask 1 (visited node 0)\n",
        "    int result = tspDP(1, 0, dp, n);\n",
        "\n",
        "    auto end = std::chrono::high_resolution_clock::now();\n",
        "    std::chrono::duration<double> duration = end - start;\n",
        "\n",
        "    std::cout << \"Nodes: \" << n << \" Time: \" << duration.count() << \" seconds. Min Cost: \" << result << \"\\n\";\n",
        "\n",
        "    // Print the optimal tour\n",
        "    int mask = 1, pos = 0;\n",
        "    std::cout << \"Optimal Tour: 0\";\n",
        "    for (int i = 0; i < n - 1; i++) {\n",
        "        int nextCity = -1;\n",
        "        for (int city = 0; city < n; city++) {\n",
        "            if ((mask & (1 << city)) == 0) {\n",
        "                if (nextCity == -1 || dist[pos][city] + dp[mask | (1 << city)][city] <\n",
        "                                      dist[pos][nextCity] + dp[mask | (1 << nextCity)][nextCity]) {\n",
        "                    nextCity = city;\n",
        "                }\n",
        "            }\n",
        "        }\n",
        "        std::cout << \" -> \" << nextCity;\n",
        "        mask |= (1 << nextCity);\n",
        "        pos = nextCity;\n",
        "    }\n",
        "    std::cout << \" -> 0\\n\";\n",
        "\n",
        "    return 0;\n",
        "}\n"
      ],
      "metadata": {
        "colab": {
          "base_uri": "https://localhost:8080/"
        },
        "id": "dI_D_zw1nEgT",
        "outputId": "2b05e3cb-71d3-4c65-bc50-817dcb66d968"
      },
      "execution_count": 44,
      "outputs": [
        {
          "output_type": "stream",
          "name": "stdout",
          "text": [
            "Nodes: 4 Time: 1.072e-06 seconds. Min Cost: 80\n",
            "Optimal Tour: 0 -> 1 -> 3 -> 2 -> 0\n",
            "\n"
          ]
        }
      ]
    },
    {
      "cell_type": "code",
      "source": [
        "%%cuda\n",
        "#include <iostream>\n",
        "#include <vector>\n",
        "#include <limits.h>\n",
        "#include <chrono>\n",
        "#include <random>\n",
        "\n",
        "#define MAX 20  // maximum number of nodes\n",
        "\n",
        "std::vector<std::vector<int>> generateRandomAdjacencyMatrix(int nodes, int maxWeight) {\n",
        "    std::random_device rd;\n",
        "    std::mt19937 gen(rd());\n",
        "    std::uniform_int_distribution<> dis(1, maxWeight);\n",
        "\n",
        "    std::vector<std::vector<int>> matrix(nodes, std::vector<int>(nodes));\n",
        "    for (int i = 0; i < nodes; ++i) {\n",
        "        for (int j = 0; j < nodes; ++j) {\n",
        "            if (i == j) {\n",
        "                matrix[i][j] = 0;  // Diagonal elements are zero (no self-loop)\n",
        "            } else {\n",
        "                matrix[i][j] = dis(gen);\n",
        "            }\n",
        "        }\n",
        "    }\n",
        "    return matrix;\n",
        "}\n",
        "\n",
        "// The main dynamic programming function for solving TSP\n",
        "int tspDP(int mask, int pos, const std::vector<std::vector<int>>& adj, std::vector<std::vector<int>>& dp, int n) {\n",
        "    if (mask == (1 << n) - 1) {\n",
        "        return adj[pos][0]; // Return to the starting city\n",
        "    }\n",
        "\n",
        "    if (dp[mask][pos] != -1) {\n",
        "        return dp[mask][pos];\n",
        "    }\n",
        "\n",
        "    int ans = INT_MAX;\n",
        "    for (int city = 0; city < n; city++) {\n",
        "        if ((mask & (1 << city)) == 0) {\n",
        "            int newAns = adj[pos][city] + tspDP(mask | (1 << city), city, adj, dp, n);\n",
        "            ans = std::min(ans, newAns);\n",
        "        }\n",
        "    }\n",
        "\n",
        "    return dp[mask][pos] = ans;\n",
        "}\n",
        "\n",
        "int main() {\n",
        "    int maxWeight = 100;\n",
        "\n",
        "    for (int nodes = 4; nodes <= MAX; nodes++) {\n",
        "        // Generate random adjacency matrix on CPU\n",
        "        auto adj = generateRandomAdjacencyMatrix(nodes, maxWeight);\n",
        "\n",
        "        // Debug: Print the random matrix\n",
        "        //std::cout << \"Adjacency Matrix (\" << nodes << \"x\" << nodes << \"):\\n\";\n",
        "        int zeroCount = 0;\n",
        "        //for (int i = 0; i < nodes; i++) {\n",
        "           // for (int j = 0; j < nodes; j++) {\n",
        "              //  std::cout << adj[i][j] << \" \";\n",
        "               // if (adj[i][j] == 0) zeroCount++;\n",
        "           // }\n",
        "           // std::cout << \"\\n\";\n",
        "        //}\n",
        "        //std::cout << \"Number of zeros: \" << zeroCount << \" (expected: \" << nodes << \")\\n\\n\";\n",
        "\n",
        "        // Initialize DP table\n",
        "        std::vector<std::vector<int>> dp(1 << nodes, std::vector<int>(nodes, -1));\n",
        "\n",
        "        // Measure execution time\n",
        "        auto start = std::chrono::high_resolution_clock::now();\n",
        "\n",
        "        // Start TSP from node 0 and mask 1 (visited node 0)\n",
        "        int result = tspDP(1, 0, adj, dp, nodes);\n",
        "\n",
        "        auto end = std::chrono::high_resolution_clock::now();\n",
        "        std::chrono::duration<double> duration = end - start;\n",
        "\n",
        "        std::cout << \"Nodes: \" << nodes << \" Time: \" << duration.count() << \" seconds. Cost: \" << result << \"\\n\";\n",
        "    }\n",
        "\n",
        "    return 0;\n",
        "}\n",
        "\n",
        "\n",
        "\n",
        "\n",
        "\n"
      ],
      "metadata": {
        "id": "aAqhwXJVn7dJ",
        "colab": {
          "base_uri": "https://localhost:8080/"
        },
        "outputId": "48ebcd73-5ab7-4c60-d5fc-bfe5dca37104"
      },
      "execution_count": 46,
      "outputs": [
        {
          "output_type": "stream",
          "name": "stdout",
          "text": [
            "Nodes: 4 Time: 1.086e-06 seconds. Cost: 203\n",
            "Nodes: 5 Time: 3.175e-06 seconds. Cost: 141\n",
            "Nodes: 6 Time: 2.8873e-05 seconds. Cost: 130\n",
            "Nodes: 7 Time: 2.3981e-05 seconds. Cost: 185\n",
            "Nodes: 8 Time: 6.4768e-05 seconds. Cost: 201\n",
            "Nodes: 9 Time: 0.000169655 seconds. Cost: 172\n",
            "Nodes: 10 Time: 0.000486538 seconds. Cost: 211\n",
            "Nodes: 11 Time: 0.00100856 seconds. Cost: 199\n",
            "Nodes: 12 Time: 0.00241509 seconds. Cost: 97\n",
            "Nodes: 13 Time: 0.00582593 seconds. Cost: 160\n",
            "Nodes: 14 Time: 0.0139087 seconds. Cost: 177\n",
            "Nodes: 15 Time: 0.0335005 seconds. Cost: 181\n",
            "Nodes: 16 Time: 0.0844351 seconds. Cost: 162\n",
            "Nodes: 17 Time: 0.210962 seconds. Cost: 199\n",
            "Nodes: 18 Time: 0.525691 seconds. Cost: 156\n",
            "Nodes: 19 Time: 1.37116 seconds. Cost: 168\n",
            "Nodes: 20 Time: 4.1365 seconds. Cost: 183\n",
            "\n"
          ]
        }
      ]
    },
    {
      "cell_type": "code",
      "source": [],
      "metadata": {
        "id": "i-vOVSVLlgzK"
      },
      "execution_count": null,
      "outputs": []
    }
  ]
}