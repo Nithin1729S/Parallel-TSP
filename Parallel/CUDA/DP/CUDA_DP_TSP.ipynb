{
  "cells": [
    {
      "cell_type": "code",
      "execution_count": 1,
      "metadata": {
        "colab": {
          "base_uri": "https://localhost:8080/"
        },
        "id": "07d_WyH8nj9H",
        "outputId": "9f5fb8aa-3b7e-45a4-cc02-51308c244709"
      },
      "outputs": [
        {
          "output_type": "stream",
          "name": "stdout",
          "text": [
            "/bin/bash: -c: line 2: syntax error: unexpected end of file\n"
          ]
        }
      ],
      "source": [
        "!nvcc --version"
      ]
    },
    {
      "cell_type": "code",
      "execution_count": 2,
      "metadata": {
        "colab": {
          "base_uri": "https://localhost:8080/"
        },
        "id": "a9oRkzsInyWa",
        "outputId": "b34911c7-ec1a-44d2-8658-5cfb282df157"
      },
      "outputs": [
        {
          "output_type": "stream",
          "name": "stdout",
          "text": [
            "Collecting nvcc4jupyter\n",
            "  Downloading nvcc4jupyter-1.2.1-py3-none-any.whl.metadata (5.1 kB)\n",
            "Downloading nvcc4jupyter-1.2.1-py3-none-any.whl (10 kB)\n",
            "Installing collected packages: nvcc4jupyter\n",
            "Successfully installed nvcc4jupyter-1.2.1\n"
          ]
        }
      ],
      "source": [
        "!pip install nvcc4jupyter\n"
      ]
    },
    {
      "cell_type": "code",
      "execution_count": 3,
      "metadata": {
        "colab": {
          "base_uri": "https://localhost:8080/"
        },
        "id": "TKLU-r77n0f9",
        "outputId": "2e8213f1-52c9-4ccd-d12a-41b6dad34d65"
      },
      "outputs": [
        {
          "output_type": "stream",
          "name": "stdout",
          "text": [
            "Detected platform \"Colab\". Running its setup...\n",
            "Source files will be saved in \"/tmp/tmp4_37zb9n\".\n"
          ]
        }
      ],
      "source": [
        "%load_ext nvcc4jupyter"
      ]
    },
    {
      "cell_type": "code",
      "execution_count": 4,
      "metadata": {
        "colab": {
          "base_uri": "https://localhost:8080/"
        },
        "id": "dI_D_zw1nEgT",
        "outputId": "3fd4890a-45e4-4911-a91c-4eeeaecaec68"
      },
      "outputs": [
        {
          "output_type": "stream",
          "name": "stdout",
          "text": [
            "Nodes: 4 Time: 1.173e-06 seconds. Min Cost: 80\n",
            "Optimal Tour: 0 -> 1 -> 3 -> 2 -> 0\n",
            "\n"
          ]
        }
      ],
      "source": [
        "%%cuda\n",
        "#include <iostream>\n",
        "#include <vector>\n",
        "#include <limits.h>\n",
        "#include <chrono>\n",
        "#include <bitset>\n",
        "\n",
        "#define MAX_V 4  // maximum number of nodes\n",
        "\n",
        "const int dist[MAX_V][MAX_V] = {\n",
        "    { 0, 10, 15, 20 },\n",
        "    { 10, 0, 35, 25 },\n",
        "    { 15, 35, 0, 30 },\n",
        "    { 20, 25, 30, 0 }\n",
        "};\n",
        "\n",
        "// The main dynamic programming function for solving TSP\n",
        "int tspDP(int mask, int pos, std::vector<std::vector<int>>& dp, int n) {\n",
        "    if (mask == ((1 << n) - 1)) {\n",
        "        return dist[pos][0]; // Return to the starting city (city 0)\n",
        "    }\n",
        "\n",
        "    if (dp[mask][pos] != -1) {\n",
        "        return dp[mask][pos];\n",
        "    }\n",
        "\n",
        "    int ans = INT_MAX;\n",
        "    for (int city = 0; city < n; city++) {\n",
        "        if ((mask & (1 << city)) == 0) {\n",
        "            int newAns = dist[pos][city] + tspDP(mask | (1 << city), city, dp, n);\n",
        "            ans = std::min(ans, newAns);\n",
        "        }\n",
        "    }\n",
        "\n",
        "    return dp[mask][pos] = ans;\n",
        "}\n",
        "\n",
        "int main() {\n",
        "    int n = MAX_V;  // number of cities\n",
        "\n",
        "    // Initialize DP table\n",
        "    std::vector<std::vector<int>> dp(1 << n, std::vector<int>(n, -1));\n",
        "\n",
        "    // Measure execution time\n",
        "    auto start = std::chrono::high_resolution_clock::now();\n",
        "\n",
        "    // Start TSP from node 0 and mask 1 (visited node 0)\n",
        "    int result = tspDP(1, 0, dp, n);\n",
        "\n",
        "    auto end = std::chrono::high_resolution_clock::now();\n",
        "    std::chrono::duration<double> duration = end - start;\n",
        "\n",
        "    std::cout << \"Nodes: \" << n << \" Time: \" << duration.count() << \" seconds. Min Cost: \" << result << \"\\n\";\n",
        "\n",
        "    // Print the optimal tour\n",
        "    int mask = 1, pos = 0;\n",
        "    std::cout << \"Optimal Tour: 0\";\n",
        "    for (int i = 0; i < n - 1; i++) {\n",
        "        int nextCity = -1;\n",
        "        for (int city = 0; city < n; city++) {\n",
        "            if ((mask & (1 << city)) == 0) {\n",
        "                if (nextCity == -1 || dist[pos][city] + dp[mask | (1 << city)][city] <\n",
        "                                      dist[pos][nextCity] + dp[mask | (1 << nextCity)][nextCity]) {\n",
        "                    nextCity = city;\n",
        "                }\n",
        "            }\n",
        "        }\n",
        "        std::cout << \" -> \" << nextCity;\n",
        "        mask |= (1 << nextCity);\n",
        "        pos = nextCity;\n",
        "    }\n",
        "    std::cout << \" -> 0\\n\";\n",
        "\n",
        "    return 0;\n",
        "}\n"
      ]
    },
    {
      "cell_type": "code",
      "execution_count": 5,
      "metadata": {
        "colab": {
          "base_uri": "https://localhost:8080/"
        },
        "id": "aAqhwXJVn7dJ",
        "outputId": "461eeaa1-cb71-4ce6-ebd2-852f80dd14ba"
      },
      "outputs": [
        {
          "output_type": "stream",
          "name": "stdout",
          "text": [
            "Nodes: 4 Time: 1.023e-06 seconds. Cost: 136\n",
            "Nodes: 5 Time: 2.773e-06 seconds. Cost: 184\n",
            "Nodes: 6 Time: 7.472e-06 seconds. Cost: 209\n",
            "Nodes: 7 Time: 2.0772e-05 seconds. Cost: 321\n",
            "Nodes: 8 Time: 5.479e-05 seconds. Cost: 221\n",
            "Nodes: 9 Time: 0.000254195 seconds. Cost: 131\n",
            "Nodes: 10 Time: 0.000346224 seconds. Cost: 142\n",
            "Nodes: 11 Time: 0.000860431 seconds. Cost: 99\n",
            "Nodes: 12 Time: 0.00205667 seconds. Cost: 189\n",
            "Nodes: 13 Time: 0.00478523 seconds. Cost: 172\n",
            "Nodes: 14 Time: 0.0114477 seconds. Cost: 147\n",
            "Nodes: 15 Time: 0.0265484 seconds. Cost: 116\n",
            "Nodes: 16 Time: 0.0650195 seconds. Cost: 188\n",
            "Nodes: 17 Time: 0.164437 seconds. Cost: 146\n",
            "Nodes: 18 Time: 0.375428 seconds. Cost: 149\n",
            "Nodes: 19 Time: 0.998055 seconds. Cost: 211\n",
            "Nodes: 20 Time: 2.504 seconds. Cost: 144\n",
            "\n"
          ]
        }
      ],
      "source": [
        "%%cuda\n",
        "#include <iostream>\n",
        "#include <vector>\n",
        "#include <limits.h>\n",
        "#include <chrono>\n",
        "#include <random>\n",
        "\n",
        "#define MAX 20  // maximum number of nodes\n",
        "\n",
        "std::vector<std::vector<int>> generateRandomAdjacencyMatrix(int nodes, int maxWeight) {\n",
        "    std::random_device rd;\n",
        "    std::mt19937 gen(rd());\n",
        "    std::uniform_int_distribution<> dis(1, maxWeight);\n",
        "\n",
        "    std::vector<std::vector<int>> matrix(nodes, std::vector<int>(nodes));\n",
        "    for (int i = 0; i < nodes; ++i) {\n",
        "        for (int j = 0; j < nodes; ++j) {\n",
        "            if (i == j) {\n",
        "                matrix[i][j] = 0;  // Diagonal elements are zero (no self-loop)\n",
        "            } else {\n",
        "                matrix[i][j] = dis(gen);\n",
        "            }\n",
        "        }\n",
        "    }\n",
        "    return matrix;\n",
        "}\n",
        "\n",
        "// The main dynamic programming function for solving TSP\n",
        "int tspDP(int mask, int pos, const std::vector<std::vector<int>>& adj, std::vector<std::vector<int>>& dp, int n) {\n",
        "    if (mask == (1 << n) - 1) {\n",
        "        return adj[pos][0]; // Return to the starting city\n",
        "    }\n",
        "\n",
        "    if (dp[mask][pos] != -1) {\n",
        "        return dp[mask][pos];\n",
        "    }\n",
        "\n",
        "    int ans = INT_MAX;\n",
        "    for (int city = 0; city < n; city++) {\n",
        "        if ((mask & (1 << city)) == 0) {\n",
        "            int newAns = adj[pos][city] + tspDP(mask | (1 << city), city, adj, dp, n);\n",
        "            ans = std::min(ans, newAns);\n",
        "        }\n",
        "    }\n",
        "\n",
        "    return dp[mask][pos] = ans;\n",
        "}\n",
        "\n",
        "int main() {\n",
        "    int maxWeight = 100;\n",
        "\n",
        "    for (int nodes = 4; nodes <= MAX; nodes++) {\n",
        "        // Generate random adjacency matrix on CPU\n",
        "        auto adj = generateRandomAdjacencyMatrix(nodes, maxWeight);\n",
        "\n",
        "        // Debug: Print the random matrix\n",
        "        //std::cout << \"Adjacency Matrix (\" << nodes << \"x\" << nodes << \"):\\n\";\n",
        "        int zeroCount = 0;\n",
        "        //for (int i = 0; i < nodes; i++) {\n",
        "           // for (int j = 0; j < nodes; j++) {\n",
        "              //  std::cout << adj[i][j] << \" \";\n",
        "               // if (adj[i][j] == 0) zeroCount++;\n",
        "           // }\n",
        "           // std::cout << \"\\n\";\n",
        "        //}\n",
        "        //std::cout << \"Number of zeros: \" << zeroCount << \" (expected: \" << nodes << \")\\n\\n\";\n",
        "\n",
        "        // Initialize DP table\n",
        "        std::vector<std::vector<int>> dp(1 << nodes, std::vector<int>(nodes, -1));\n",
        "\n",
        "        // Measure execution time\n",
        "        auto start = std::chrono::high_resolution_clock::now();\n",
        "\n",
        "        // Start TSP from node 0 and mask 1 (visited node 0)\n",
        "        int result = tspDP(1, 0, adj, dp, nodes);\n",
        "\n",
        "        auto end = std::chrono::high_resolution_clock::now();\n",
        "        std::chrono::duration<double> duration = end - start;\n",
        "\n",
        "        std::cout << \"Nodes: \" << nodes << \" Time: \" << duration.count() << \" seconds. Cost: \" << result << \"\\n\";\n",
        "    }\n",
        "\n",
        "    return 0;\n",
        "}\n",
        "\n",
        "\n",
        "\n",
        "\n",
        "\n"
      ]
    },
    {
      "cell_type": "code",
      "execution_count": 6,
      "metadata": {
        "id": "gO5kNr-cCcEx"
      },
      "outputs": [],
      "source": []
    }
  ],
  "metadata": {
    "colab": {
      "provenance": [],
      "gpuType": "T4"
    },
    "kernelspec": {
      "display_name": "Python 3",
      "name": "python3"
    },
    "language_info": {
      "name": "python"
    },
    "accelerator": "GPU"
  },
  "nbformat": 4,
  "nbformat_minor": 0
}